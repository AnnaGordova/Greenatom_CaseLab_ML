{
 "cells": [
  {
   "cell_type": "markdown",
   "id": "c1a0f837-ffa5-416b-a300-9ec8aa0f0633",
   "metadata": {},
   "source": [
    "# Описание процесса работы с моделью"
   ]
  },
  {
   "cell_type": "markdown",
   "id": "b85fe45c-ebac-42ce-98f2-15b41369bb74",
   "metadata": {},
   "source": [
    "## Основные положения\n",
    "\n",
    "Перед нами стоит `задача классификации` отзывов на фильмы на две категории: положительные и отрицательные, а также присвоение отзыву рейтинга от одного до десяти. С целью повышения точности работы модели будем использовать трансферное обучение, то есть проведем дообучение на датасете imdb редварительно обученной модели.\n",
    "\n",
    "В качестве основы была выбрана модель `Bert`, которая использует трансформер. В отличие от направленных моделей, которые считывают вводимый текст последовательно, кодировщик трансформера считывает сразу всю последовательность слов, поэтому он считается двунаправленным. Эта особенность позволяет модели изучать контекст слова на основе всего его окружения, что повышает точность предсказаний модели.\n",
    "\n",
    "Будем производить дообучение на `два класса` - позитивные и негативные отзывы. `Рейтинг` отзыва возьмем из параметра уверенности модели в своем предсказании. Например, если на некоторые входные данные ответ модели \"отзыв позитивный с вероятностью 78%\", то будем считать, что рейтинг этого отзыва равен 8-и из-за округления. "
   ]
  },
  {
   "cell_type": "markdown",
   "id": "587e72bc-d832-44f0-9ff9-c3b1986ae10b",
   "metadata": {},
   "source": [
    "## Подготовка данных\n",
    "\n",
    "Для удобства дальнейшей работы с моделью, а именно ее интегрированием в веб-приложение, будем пользоваться инструментами платформы \"Hugging face\", позволяющими, например, загружать свои модели на удаленный сервер и с легкостью выгружать их обратно на любое устройство. Разработка решения данной задачи велась на двух устройствах: на более производительном стационарном компьютере производилась разработка модели и ее обучение, а на ноутбуке с операционной системой Ubuntu производилась работа с веб-приложением и его развертывание на удаленном сервере. Поэтому платформа \"Hugging face\" стала хорошим подспорьем в решении этой задачи.\n",
    "\n",
    "Будем использовать датасет imdb. Для удобства так же воспользуемся платформой \"Hugging face\" и скачаем датасет, аналогичный оригиналу, который доступен по ссылке в условии задачи."
   ]
  },
  {
   "cell_type": "markdown",
   "id": "5aba4aa1-ee94-45c6-bf0f-a786735be743",
   "metadata": {},
   "source": [
    "Логинимся на платформе:"
   ]
  },
  {
   "cell_type": "code",
   "execution_count": 1,
   "id": "88b5019e-6563-498f-aba2-e1439e1b1e6a",
   "metadata": {},
   "outputs": [
    {
     "data": {
      "application/vnd.jupyter.widget-view+json": {
       "model_id": "4e93c8ab04cc4b74bd6ea92760e62061",
       "version_major": 2,
       "version_minor": 0
      },
      "text/plain": [
       "VBox(children=(HTML(value='<center> <img\\nsrc=https://huggingface.co/front/assets/huggingface_logo-noborder.sv…"
      ]
     },
     "metadata": {},
     "output_type": "display_data"
    }
   ],
   "source": [
    "from huggingface_hub import notebook_login\n",
    "\n",
    "notebook_login()"
   ]
  },
  {
   "cell_type": "markdown",
   "id": "9f259272-ddfd-4059-9799-bda05bf86c77",
   "metadata": {},
   "source": [
    "### Загружаем датасет"
   ]
  },
  {
   "cell_type": "code",
   "execution_count": 4,
   "id": "8fc14f69-4080-44e7-bee1-e76db980a4e5",
   "metadata": {},
   "outputs": [
    {
     "data": {
      "application/vnd.jupyter.widget-view+json": {
       "model_id": "1fbf489663e041ccb45359304530cb07",
       "version_major": 2,
       "version_minor": 0
      },
      "text/plain": [
       "README.md:   0%|          | 0.00/7.81k [00:00<?, ?B/s]"
      ]
     },
     "metadata": {},
     "output_type": "display_data"
    },
    {
     "name": "stderr",
     "output_type": "stream",
     "text": [
      "C:\\Users\\User\\AppData\\Local\\Programs\\Python\\Python311\\Lib\\site-packages\\huggingface_hub\\file_download.py:147: UserWarning: `huggingface_hub` cache-system uses symlinks by default to efficiently store duplicated files but your machine does not support them in C:\\Users\\User\\.cache\\huggingface\\hub\\datasets--imdb. Caching files will still work but in a degraded version that might require more space on your disk. This warning can be disabled by setting the `HF_HUB_DISABLE_SYMLINKS_WARNING` environment variable. For more details, see https://huggingface.co/docs/huggingface_hub/how-to-cache#limitations.\n",
      "To support symlinks on Windows, you either need to activate Developer Mode or to run Python as an administrator. In order to activate developer mode, see this article: https://docs.microsoft.com/en-us/windows/apps/get-started/enable-your-device-for-development\n",
      "  warnings.warn(message)\n"
     ]
    },
    {
     "data": {
      "application/vnd.jupyter.widget-view+json": {
       "model_id": "cfd3414b95414cc2b86d04e29ff08933",
       "version_major": 2,
       "version_minor": 0
      },
      "text/plain": [
       "train-00000-of-00001.parquet:   0%|          | 0.00/21.0M [00:00<?, ?B/s]"
      ]
     },
     "metadata": {},
     "output_type": "display_data"
    },
    {
     "data": {
      "application/vnd.jupyter.widget-view+json": {
       "model_id": "7c0ed0303af64ff28a0886378cfa25a3",
       "version_major": 2,
       "version_minor": 0
      },
      "text/plain": [
       "test-00000-of-00001.parquet:   0%|          | 0.00/20.5M [00:00<?, ?B/s]"
      ]
     },
     "metadata": {},
     "output_type": "display_data"
    },
    {
     "data": {
      "application/vnd.jupyter.widget-view+json": {
       "model_id": "4dca3b1e77044e9ea2d0e427ace35d81",
       "version_major": 2,
       "version_minor": 0
      },
      "text/plain": [
       "unsupervised-00000-of-00001.parquet:   0%|          | 0.00/42.0M [00:00<?, ?B/s]"
      ]
     },
     "metadata": {},
     "output_type": "display_data"
    },
    {
     "data": {
      "application/vnd.jupyter.widget-view+json": {
       "model_id": "7ba6da8d46094b35aa10eb03b8f457d7",
       "version_major": 2,
       "version_minor": 0
      },
      "text/plain": [
       "Generating train split:   0%|          | 0/25000 [00:00<?, ? examples/s]"
      ]
     },
     "metadata": {},
     "output_type": "display_data"
    },
    {
     "data": {
      "application/vnd.jupyter.widget-view+json": {
       "model_id": "e3d8cf75e03f460db3cb0c93ab48ab83",
       "version_major": 2,
       "version_minor": 0
      },
      "text/plain": [
       "Generating test split:   0%|          | 0/25000 [00:00<?, ? examples/s]"
      ]
     },
     "metadata": {},
     "output_type": "display_data"
    },
    {
     "data": {
      "application/vnd.jupyter.widget-view+json": {
       "model_id": "3b2f956f8f2b4c089f6102dcb2030808",
       "version_major": 2,
       "version_minor": 0
      },
      "text/plain": [
       "Generating unsupervised split:   0%|          | 0/50000 [00:00<?, ? examples/s]"
      ]
     },
     "metadata": {},
     "output_type": "display_data"
    }
   ],
   "source": [
    "from datasets import load_dataset\n",
    "\n",
    "imdb = load_dataset(\"imdb\")"
   ]
  },
  {
   "cell_type": "markdown",
   "id": "08517f93-ebdb-45fc-a64d-e37605a0799f",
   "metadata": {},
   "source": [
    "Пример экземпляра данных"
   ]
  },
  {
   "cell_type": "code",
   "execution_count": 5,
   "id": "f0a6e666-558e-47c7-bd07-cdb6d3f37dc0",
   "metadata": {},
   "outputs": [
    {
     "data": {
      "text/plain": [
       "{'text': 'I love sci-fi and am willing to put up with a lot. Sci-fi movies/TV are usually underfunded, under-appreciated and misunderstood. I tried to like this, I really did, but it is to good TV sci-fi as Babylon 5 is to Star Trek (the original). Silly prosthetics, cheap cardboard sets, stilted dialogues, CG that doesn\\'t match the background, and painfully one-dimensional characters cannot be overcome with a \\'sci-fi\\' setting. (I\\'m sure there are those of you out there who think Babylon 5 is good sci-fi TV. It\\'s not. It\\'s clichéd and uninspiring.) While US viewers might like emotion and character development, sci-fi is a genre that does not take itself seriously (cf. Star Trek). It may treat important issues, yet not as a serious philosophy. It\\'s really difficult to care about the characters here as they are not simply foolish, just missing a spark of life. Their actions and reactions are wooden and predictable, often painful to watch. The makers of Earth KNOW it\\'s rubbish as they have to always say \"Gene Roddenberry\\'s Earth...\" otherwise people would not continue watching. Roddenberry\\'s ashes must be turning in their orbit as this dull, cheap, poorly edited (watching it without advert breaks really brings this home) trudging Trabant of a show lumbers into space. Spoiler. So, kill off a main character. And then bring him back as another actor. Jeeez! Dallas all over again.',\n",
       " 'label': 0}"
      ]
     },
     "execution_count": 5,
     "metadata": {},
     "output_type": "execute_result"
    }
   ],
   "source": [
    "imdb[\"test\"][0]"
   ]
  },
  {
   "cell_type": "markdown",
   "id": "db1e22bf-05b5-4557-955a-928cd2988ef3",
   "metadata": {},
   "source": [
    "## Токенизация\n",
    "\n",
    "Токенизатор позволяет разбивать текст на более мелкие единицы (токены). Такое разделение играет роль предобработки данных перед обучением."
   ]
  },
  {
   "cell_type": "code",
   "execution_count": 8,
   "id": "0efd9fbb-2d28-486d-8410-6344cf9da0e8",
   "metadata": {},
   "outputs": [
    {
     "name": "stderr",
     "output_type": "stream",
     "text": [
      "The cache for model files in Transformers v4.22.0 has been updated. Migrating your old cache. This is a one-time only operation. You can interrupt this and resume the migration later on by calling `transformers.utils.move_cache()`.\n"
     ]
    },
    {
     "data": {
      "application/vnd.jupyter.widget-view+json": {
       "model_id": "c9f88e11c54847baaf63bea749bcb30e",
       "version_major": 2,
       "version_minor": 0
      },
      "text/plain": [
       "0it [00:00, ?it/s]"
      ]
     },
     "metadata": {},
     "output_type": "display_data"
    },
    {
     "data": {
      "application/vnd.jupyter.widget-view+json": {
       "model_id": "7705c418421949069c339c83bdf95c3b",
       "version_major": 2,
       "version_minor": 0
      },
      "text/plain": [
       "tokenizer_config.json:   0%|          | 0.00/48.0 [00:00<?, ?B/s]"
      ]
     },
     "metadata": {},
     "output_type": "display_data"
    },
    {
     "name": "stderr",
     "output_type": "stream",
     "text": [
      "C:\\Users\\User\\AppData\\Local\\Programs\\Python\\Python311\\Lib\\site-packages\\huggingface_hub\\file_download.py:147: UserWarning: `huggingface_hub` cache-system uses symlinks by default to efficiently store duplicated files but your machine does not support them in C:\\Users\\User\\.cache\\huggingface\\hub\\models--distilbert--distilbert-base-uncased. Caching files will still work but in a degraded version that might require more space on your disk. This warning can be disabled by setting the `HF_HUB_DISABLE_SYMLINKS_WARNING` environment variable. For more details, see https://huggingface.co/docs/huggingface_hub/how-to-cache#limitations.\n",
      "To support symlinks on Windows, you either need to activate Developer Mode or to run Python as an administrator. In order to activate developer mode, see this article: https://docs.microsoft.com/en-us/windows/apps/get-started/enable-your-device-for-development\n",
      "  warnings.warn(message)\n"
     ]
    },
    {
     "data": {
      "application/vnd.jupyter.widget-view+json": {
       "model_id": "e4ca5b1b235c4cfdb887983dac99d65e",
       "version_major": 2,
       "version_minor": 0
      },
      "text/plain": [
       "config.json:   0%|          | 0.00/483 [00:00<?, ?B/s]"
      ]
     },
     "metadata": {},
     "output_type": "display_data"
    },
    {
     "data": {
      "application/vnd.jupyter.widget-view+json": {
       "model_id": "3c694c8209f94bbebb66d0f410ab63ad",
       "version_major": 2,
       "version_minor": 0
      },
      "text/plain": [
       "vocab.txt:   0%|          | 0.00/232k [00:00<?, ?B/s]"
      ]
     },
     "metadata": {},
     "output_type": "display_data"
    },
    {
     "data": {
      "application/vnd.jupyter.widget-view+json": {
       "model_id": "0d1dabfd83a14975ad6e15350434ed1b",
       "version_major": 2,
       "version_minor": 0
      },
      "text/plain": [
       "tokenizer.json:   0%|          | 0.00/466k [00:00<?, ?B/s]"
      ]
     },
     "metadata": {},
     "output_type": "display_data"
    },
    {
     "name": "stderr",
     "output_type": "stream",
     "text": [
      "C:\\Users\\User\\AppData\\Local\\Programs\\Python\\Python311\\Lib\\site-packages\\transformers\\tokenization_utils_base.py:1617: FutureWarning: `clean_up_tokenization_spaces` was not set. It will be set to `True` by default. This behavior will be deprecated in transformers v4.45, and will be then set to `False` by default. For more details check this issue: https://github.com/huggingface/transformers/issues/31884\n",
      "  warnings.warn(\n"
     ]
    }
   ],
   "source": [
    "from transformers import AutoTokenizer\n",
    "\n",
    "tokenizer = AutoTokenizer.from_pretrained(\"distilbert/distilbert-base-uncased\")"
   ]
  },
  {
   "cell_type": "markdown",
   "id": "1f8fa3bd-664b-4075-b2d6-a58b5b226d9c",
   "metadata": {},
   "source": [
    "Создадим функцию предварительной токенизации текста."
   ]
  },
  {
   "cell_type": "code",
   "execution_count": 9,
   "id": "530d8d1e-2d76-43d0-a8a8-8c7d155916f4",
   "metadata": {},
   "outputs": [],
   "source": [
    "def preprocess_function(examples):\n",
    "    return tokenizer(examples[\"text\"], truncation=True)"
   ]
  },
  {
   "cell_type": "markdown",
   "id": "f0f6f229-cb16-4057-904a-7288c7b08c9a",
   "metadata": {},
   "source": [
    "Произведем токенизацию на всем наборе данных."
   ]
  },
  {
   "cell_type": "code",
   "execution_count": 10,
   "id": "5a4c050e-6656-4229-bc1d-66bffd413df3",
   "metadata": {},
   "outputs": [
    {
     "data": {
      "application/vnd.jupyter.widget-view+json": {
       "model_id": "db8a0f5995e8496a985a7aee2e3a45d4",
       "version_major": 2,
       "version_minor": 0
      },
      "text/plain": [
       "Map:   0%|          | 0/25000 [00:00<?, ? examples/s]"
      ]
     },
     "metadata": {},
     "output_type": "display_data"
    },
    {
     "data": {
      "application/vnd.jupyter.widget-view+json": {
       "model_id": "3b3528fc739847029f3e6e47408a8616",
       "version_major": 2,
       "version_minor": 0
      },
      "text/plain": [
       "Map:   0%|          | 0/25000 [00:00<?, ? examples/s]"
      ]
     },
     "metadata": {},
     "output_type": "display_data"
    },
    {
     "data": {
      "application/vnd.jupyter.widget-view+json": {
       "model_id": "030b26cf8499447d863d31ebec36df06",
       "version_major": 2,
       "version_minor": 0
      },
      "text/plain": [
       "Map:   0%|          | 0/50000 [00:00<?, ? examples/s]"
      ]
     },
     "metadata": {},
     "output_type": "display_data"
    }
   ],
   "source": [
    "tokenized_imdb = imdb.map(preprocess_function, batched=True)"
   ]
  },
  {
   "cell_type": "markdown",
   "id": "66855d84-8874-413d-8d79-19ee79ce9c92",
   "metadata": {},
   "source": [
    "### Создадим набор примеров"
   ]
  },
  {
   "cell_type": "code",
   "execution_count": 11,
   "id": "2b54deb0-c680-4ed3-9acf-74c4a085af65",
   "metadata": {},
   "outputs": [],
   "source": [
    "from transformers import DataCollatorWithPadding\n",
    "data_collator = DataCollatorWithPadding(tokenizer=tokenizer)"
   ]
  },
  {
   "cell_type": "markdown",
   "id": "954f9da7-df07-43c8-acda-0db8de5462c7",
   "metadata": {},
   "source": [
    "## Импорт метрики для обучения\n",
    "\n",
    "Для оценки точности во время обучения воспользуемся метрикой `accuracy` (точность), которую предварительно импортируем"
   ]
  },
  {
   "cell_type": "code",
   "execution_count": 33,
   "id": "3957b3c0-1040-4a1e-90ed-9da87d4de340",
   "metadata": {},
   "outputs": [],
   "source": [
    "import evaluate\n",
    "\n",
    "accuracy = evaluate.load(\"accuracy\")"
   ]
  },
  {
   "cell_type": "markdown",
   "id": "41ed16ea-81d2-485f-b10e-80c44bd8e5a1",
   "metadata": {},
   "source": [
    "Создадим функцию для рассчета точности."
   ]
  },
  {
   "cell_type": "code",
   "execution_count": 13,
   "id": "46c45613-b137-4c7e-a70f-838f5dc55ab5",
   "metadata": {},
   "outputs": [],
   "source": [
    "import numpy as np\n",
    "\n",
    "\n",
    "def compute_metrics(eval_pred):\n",
    "    predictions, labels = eval_pred\n",
    "    predictions = np.argmax(predictions, axis=1)\n",
    "    return accuracy.compute(predictions=predictions, references=labels)"
   ]
  },
  {
   "cell_type": "markdown",
   "id": "88c5d2b4-1223-4839-89e5-ea578cfff685",
   "metadata": {},
   "source": [
    "Создадим вспомогательные словари, в которых укажем соответствие меток целевым значениям."
   ]
  },
  {
   "cell_type": "code",
   "execution_count": 14,
   "id": "f67247db-f86e-49f6-bf41-8ec5dd3613bf",
   "metadata": {},
   "outputs": [],
   "source": [
    "id2label = {0: \"NEGATIVE\", 1: \"POSITIVE\"}\n",
    "label2id = {\"NEGATIVE\": 0, \"POSITIVE\": 1}"
   ]
  },
  {
   "cell_type": "markdown",
   "id": "cb3c2306-0eb0-4edb-83b6-b828f1b76ecc",
   "metadata": {},
   "source": [
    "## Обучение\n",
    "\n",
    "Загрузим Bert. Обучение будем производить в две эпохи."
   ]
  },
  {
   "cell_type": "code",
   "execution_count": 15,
   "id": "8aea2bd7-7ecb-4f81-b3cd-7890a674aa58",
   "metadata": {},
   "outputs": [
    {
     "name": "stdout",
     "output_type": "stream",
     "text": [
      "WARNING:tensorflow:From C:\\Users\\User\\AppData\\Local\\Programs\\Python\\Python311\\Lib\\site-packages\\tf_keras\\src\\losses.py:2976: The name tf.losses.sparse_softmax_cross_entropy is deprecated. Please use tf.compat.v1.losses.sparse_softmax_cross_entropy instead.\n",
      "\n"
     ]
    },
    {
     "data": {
      "application/vnd.jupyter.widget-view+json": {
       "model_id": "970c84404e154b3982866804afe95c4e",
       "version_major": 2,
       "version_minor": 0
      },
      "text/plain": [
       "model.safetensors:   0%|          | 0.00/268M [00:00<?, ?B/s]"
      ]
     },
     "metadata": {},
     "output_type": "display_data"
    },
    {
     "name": "stderr",
     "output_type": "stream",
     "text": [
      "Some weights of DistilBertForSequenceClassification were not initialized from the model checkpoint at distilbert/distilbert-base-uncased and are newly initialized: ['classifier.bias', 'classifier.weight', 'pre_classifier.bias', 'pre_classifier.weight']\n",
      "You should probably TRAIN this model on a down-stream task to be able to use it for predictions and inference.\n"
     ]
    }
   ],
   "source": [
    "from transformers import AutoModelForSequenceClassification, TrainingArguments, Trainer\n",
    "\n",
    "model = AutoModelForSequenceClassification.from_pretrained(\n",
    "    \"distilbert/distilbert-base-uncased\", num_labels=2, id2label=id2label, label2id=label2id\n",
    ")"
   ]
  },
  {
   "cell_type": "code",
   "execution_count": 16,
   "id": "178d4253-ea6b-433b-84e1-406b42ba7396",
   "metadata": {},
   "outputs": [
    {
     "data": {
      "text/html": [
       "\n",
       "    <div>\n",
       "      \n",
       "      <progress value='3126' max='3126' style='width:300px; height:20px; vertical-align: middle;'></progress>\n",
       "      [3126/3126 5:55:22, Epoch 2/2]\n",
       "    </div>\n",
       "    <table border=\"1\" class=\"dataframe\">\n",
       "  <thead>\n",
       " <tr style=\"text-align: left;\">\n",
       "      <th>Epoch</th>\n",
       "      <th>Training Loss</th>\n",
       "      <th>Validation Loss</th>\n",
       "      <th>Accuracy</th>\n",
       "    </tr>\n",
       "  </thead>\n",
       "  <tbody>\n",
       "    <tr>\n",
       "      <td>1</td>\n",
       "      <td>0.223300</td>\n",
       "      <td>0.194821</td>\n",
       "      <td>0.925360</td>\n",
       "    </tr>\n",
       "    <tr>\n",
       "      <td>2</td>\n",
       "      <td>0.141300</td>\n",
       "      <td>0.238994</td>\n",
       "      <td>0.931800</td>\n",
       "    </tr>\n",
       "  </tbody>\n",
       "</table><p>"
      ],
      "text/plain": [
       "<IPython.core.display.HTML object>"
      ]
     },
     "metadata": {},
     "output_type": "display_data"
    },
    {
     "data": {
      "text/plain": [
       "TrainOutput(global_step=3126, training_loss=0.20268608588708645, metrics={'train_runtime': 21327.2348, 'train_samples_per_second': 2.344, 'train_steps_per_second': 0.147, 'total_flos': 6556904415524352.0, 'train_loss': 0.20268608588708645, 'epoch': 2.0})"
      ]
     },
     "execution_count": 16,
     "metadata": {},
     "output_type": "execute_result"
    }
   ],
   "source": [
    "training_args = TrainingArguments(\n",
    "    output_dir=\"my_awesome_model\",\n",
    "    learning_rate=2e-5,\n",
    "    per_device_train_batch_size=16,\n",
    "    per_device_eval_batch_size=16,\n",
    "    num_train_epochs=2,\n",
    "    weight_decay=0.01,\n",
    "    eval_strategy=\"epoch\",\n",
    "    save_strategy=\"epoch\",\n",
    "    load_best_model_at_end=True,\n",
    "    push_to_hub=True,\n",
    ")\n",
    "\n",
    "trainer = Trainer(\n",
    "    model=model,\n",
    "    args=training_args,\n",
    "    train_dataset=tokenized_imdb[\"train\"],\n",
    "    eval_dataset=tokenized_imdb[\"test\"],\n",
    "    tokenizer=tokenizer,\n",
    "    data_collator=data_collator,\n",
    "    compute_metrics=compute_metrics,\n",
    ")\n",
    "\n",
    "trainer.train()"
   ]
  },
  {
   "cell_type": "markdown",
   "id": "32fac9fe-0bf0-4d58-883c-7bc155213fe3",
   "metadata": {},
   "source": [
    "Загрузим модель на сервер в свой личный кабинет. В дальнейшем будем импортировать ее именно оттуда."
   ]
  },
  {
   "cell_type": "code",
   "execution_count": 17,
   "id": "bfb9bbce-bb55-4c14-95eb-20e8b583c287",
   "metadata": {},
   "outputs": [
    {
     "data": {
      "text/plain": [
       "CommitInfo(commit_url='https://huggingface.co/gordovaa/my_awesome_model/commit/e804d8ef602c77aceeee54cbbf5532a942011656', commit_message='End of training', commit_description='', oid='e804d8ef602c77aceeee54cbbf5532a942011656', pr_url=None, repo_url=RepoUrl('https://huggingface.co/gordovaa/my_awesome_model', endpoint='https://huggingface.co', repo_type='model', repo_id='gordovaa/my_awesome_model'), pr_revision=None, pr_num=None)"
      ]
     },
     "execution_count": 17,
     "metadata": {},
     "output_type": "execute_result"
    }
   ],
   "source": [
    "trainer.push_to_hub()"
   ]
  },
  {
   "cell_type": "markdown",
   "id": "aa084c25-4fcd-427a-9e03-8e87e4d1a263",
   "metadata": {},
   "source": [
    "## Тест модели\n",
    "\n",
    "Чтобы иметь возможность **протестировать модель в ноутбуке**, не производя обучение перед этим, загрузим модель, которую сохранили в предыдущем пункте."
   ]
  },
  {
   "cell_type": "code",
   "execution_count": 34,
   "id": "e157b89c-fd37-4c28-bba2-6b966a2543b4",
   "metadata": {},
   "outputs": [
    {
     "data": {
      "text/plain": [
       "[{'label': 'POSITIVE', 'score': 0.9834852814674377}]"
      ]
     },
     "execution_count": 34,
     "metadata": {},
     "output_type": "execute_result"
    }
   ],
   "source": [
    "from transformers import pipeline\n",
    "pipe = pipeline(\"text-classification\", model=\"gordovaa/my_awesome_model\")\n",
    "\n",
    "text = 'It is very nice film'\n",
    "pipe(text)"
   ]
  },
  {
   "cell_type": "markdown",
   "id": "ffa76ebf-ce33-421f-ad4d-742f19285c2c",
   "metadata": {},
   "source": [
    "В веб-приложении будем использовать аналог функции make_predictions, которая определена ниже. Отличие будет состоять в том, что входные данные будем получать из POST-запроса. В этой функции на основе score высчитываем рейтинг отзыва.\n"
   ]
  },
  {
   "cell_type": "code",
   "execution_count": 35,
   "id": "39d44f17-35e6-4d57-96d3-b1cadb91ae97",
   "metadata": {},
   "outputs": [],
   "source": [
    "def make_predictions(text):\n",
    "    pipe = pipeline(\"text-classification\", model=\"gordovaa/my_awesome_model\")\n",
    "    ans = pipe(text)[0]\n",
    "    if ans['label'] == 'POSITIVE':\n",
    "        print(ans['label'])\n",
    "        star = round(ans['score'], 1)\n",
    "        star *= 10\n",
    "        star = int(star)\n",
    "        print(star)\n",
    "    else:\n",
    "        print(ans['label'])\n",
    "        star = round(1-ans['score'], 1)\n",
    "        star *= 10\n",
    "        if star == 0.0:\n",
    "            star = 1.0\n",
    "        star = int(star)\n",
    "        print(star)"
   ]
  },
  {
   "cell_type": "code",
   "execution_count": 36,
   "id": "d981437d-5f61-4a9d-aa7b-ec15a1ec4ebb",
   "metadata": {},
   "outputs": [
    {
     "name": "stdout",
     "output_type": "stream",
     "text": [
      "POSITIVE\n",
      "6\n"
     ]
    }
   ],
   "source": [
    "text = \"There is a lot of ambiguity\"\n",
    "make_predictions(text)"
   ]
  },
  {
   "cell_type": "markdown",
   "id": "885e91be-785b-49bb-a8bb-066099b0654c",
   "metadata": {},
   "source": [
    "### Подсчет метрик\n",
    "\n",
    "Длина входного текста может оказаться больше максимально допустмой, что приведет к ошибкам. Поэтому воспользуемся исключениями try-except. "
   ]
  },
  {
   "cell_type": "code",
   "execution_count": 79,
   "id": "fd8c66dd-587a-4c59-9f75-09f10c350a98",
   "metadata": {},
   "outputs": [
    {
     "name": "stderr",
     "output_type": "stream",
     "text": [
      "Token indices sequence length is longer than the specified maximum sequence length for this model (532 > 512). Running this sequence through the model will result in indexing errors\n"
     ]
    },
    {
     "data": {
      "text/html": [
       "<div>\n",
       "<style scoped>\n",
       "    .dataframe tbody tr th:only-of-type {\n",
       "        vertical-align: middle;\n",
       "    }\n",
       "\n",
       "    .dataframe tbody tr th {\n",
       "        vertical-align: top;\n",
       "    }\n",
       "\n",
       "    .dataframe thead th {\n",
       "        text-align: right;\n",
       "    }\n",
       "</style>\n",
       "<table border=\"1\" class=\"dataframe\">\n",
       "  <thead>\n",
       "    <tr style=\"text-align: right;\">\n",
       "      <th></th>\n",
       "      <th>feedback</th>\n",
       "      <th>label</th>\n",
       "      <th>prediction</th>\n",
       "    </tr>\n",
       "  </thead>\n",
       "  <tbody>\n",
       "    <tr>\n",
       "      <th>0</th>\n",
       "      <td>I love sci-fi and am willing to put up with a ...</td>\n",
       "      <td>0</td>\n",
       "      <td>0.007037</td>\n",
       "    </tr>\n",
       "    <tr>\n",
       "      <th>1</th>\n",
       "      <td>Worth the entertainment value of a rental, esp...</td>\n",
       "      <td>0</td>\n",
       "      <td>0.102681</td>\n",
       "    </tr>\n",
       "    <tr>\n",
       "      <th>2</th>\n",
       "      <td>its a totally average film with a few semi-alr...</td>\n",
       "      <td>0</td>\n",
       "      <td>0.013824</td>\n",
       "    </tr>\n",
       "    <tr>\n",
       "      <th>3</th>\n",
       "      <td>STAR RATING: ***** Saturday Night **** Friday ...</td>\n",
       "      <td>0</td>\n",
       "      <td>0.010641</td>\n",
       "    </tr>\n",
       "    <tr>\n",
       "      <th>4</th>\n",
       "      <td>First off let me say, If you haven't enjoyed a...</td>\n",
       "      <td>0</td>\n",
       "      <td>0.971133</td>\n",
       "    </tr>\n",
       "    <tr>\n",
       "      <th>...</th>\n",
       "      <td>...</td>\n",
       "      <td>...</td>\n",
       "      <td>...</td>\n",
       "    </tr>\n",
       "    <tr>\n",
       "      <th>21482</th>\n",
       "      <td>Two city guys are driving through Hicksville U...</td>\n",
       "      <td>1</td>\n",
       "      <td>0.658370</td>\n",
       "    </tr>\n",
       "    <tr>\n",
       "      <th>21483</th>\n",
       "      <td>I got this as part of a competition prize. I w...</td>\n",
       "      <td>1</td>\n",
       "      <td>0.493933</td>\n",
       "    </tr>\n",
       "    <tr>\n",
       "      <th>21484</th>\n",
       "      <td>I got Monster Man in a box set of three films ...</td>\n",
       "      <td>1</td>\n",
       "      <td>0.440260</td>\n",
       "    </tr>\n",
       "    <tr>\n",
       "      <th>21485</th>\n",
       "      <td>Five minutes in, i started to feel how naff th...</td>\n",
       "      <td>1</td>\n",
       "      <td>0.676139</td>\n",
       "    </tr>\n",
       "    <tr>\n",
       "      <th>21486</th>\n",
       "      <td>I caught this movie on the Sci-Fi channel rece...</td>\n",
       "      <td>1</td>\n",
       "      <td>0.914155</td>\n",
       "    </tr>\n",
       "  </tbody>\n",
       "</table>\n",
       "<p>21487 rows × 3 columns</p>\n",
       "</div>"
      ],
      "text/plain": [
       "                                                feedback  label  prediction\n",
       "0      I love sci-fi and am willing to put up with a ...      0    0.007037\n",
       "1      Worth the entertainment value of a rental, esp...      0    0.102681\n",
       "2      its a totally average film with a few semi-alr...      0    0.013824\n",
       "3      STAR RATING: ***** Saturday Night **** Friday ...      0    0.010641\n",
       "4      First off let me say, If you haven't enjoyed a...      0    0.971133\n",
       "...                                                  ...    ...         ...\n",
       "21482  Two city guys are driving through Hicksville U...      1    0.658370\n",
       "21483  I got this as part of a competition prize. I w...      1    0.493933\n",
       "21484  I got Monster Man in a box set of three films ...      1    0.440260\n",
       "21485  Five minutes in, i started to feel how naff th...      1    0.676139\n",
       "21486  I caught this movie on the Sci-Fi channel rece...      1    0.914155\n",
       "\n",
       "[21487 rows x 3 columns]"
      ]
     },
     "execution_count": 79,
     "metadata": {},
     "output_type": "execute_result"
    }
   ],
   "source": [
    "pipe = pipeline(\"text-classification\", model=\"gordovaa/my_awesome_model\")\n",
    "t_list, l_list, pred_list = [], [], []\n",
    "for el in imdb['test']:\n",
    "    t = el['text']\n",
    "    l = el['label']\n",
    "    try:\n",
    "        p = pipe(t)[0]\n",
    "        pred = p['score'] if p['label'] == 'POSITIVE' else 1-p['score']\n",
    "        t_list.append(t)\n",
    "        l_list.append(l)\n",
    "        pred_list.append(pred)\n",
    "    except Exception:\n",
    "        pass\n",
    "    \n",
    "         \n",
    "data = {'feedback' : t_list, 'label' : l_list, 'prediction' : pred_list}\n",
    "df = pd.DataFrame(data)\n",
    "df"
   ]
  },
  {
   "cell_type": "markdown",
   "id": "9d798da4-e7ea-4cbf-b612-f7098125ba85",
   "metadata": {},
   "source": [
    "#### Строим ROC кривую"
   ]
  },
  {
   "cell_type": "code",
   "execution_count": 81,
   "id": "eeb87723-2cdd-4b78-9a6d-5b94353e79cf",
   "metadata": {},
   "outputs": [
    {
     "data": {
      "image/png": "[encoded data removed]",
      "text/plain": [
       "<Figure size 640x480 with 1 Axes>"
      ]
     },
     "metadata": {},
     "output_type": "display_data"
    },
    {
     "name": "stdout",
     "output_type": "stream",
     "text": [
      "ROC AUC: 0.9813\n"
     ]
    }
   ],
   "source": [
    "from sklearn.metrics import roc_curve, roc_auc_score, precision_recall_curve, average_precision_score, f1_score\n",
    "import seaborn as sns\n",
    "import matplotlib.pyplot as plt\n",
    "fpr, tpr, thresholds = roc_curve(df['label'], df['prediction'])\n",
    "roc_auc = roc_auc_score(df['label'], df['prediction'])\n",
    "\n",
    "plt.plot(fpr, tpr, color='blue', label=f'ROC Curve (AUC = {roc_auc:.4f})')\n",
    "plt.plot([0, 1], [0, 1], color='red', linestyle='--')\n",
    "plt.xlabel('False Positive Rate')\n",
    "plt.ylabel('True Positive Rate')\n",
    "plt.title('Receiver Operating Characteristic (ROC) Curve')\n",
    "plt.legend(loc='lower right')\n",
    "plt.grid()\n",
    "plt.show()\n",
    "\n",
    "\n",
    "print(f'ROC AUC: {roc_auc:.4f}')"
   ]
  },
  {
   "cell_type": "markdown",
   "id": "d0e06472-554c-4a06-8694-8c7425fc360f",
   "metadata": {},
   "source": [
    "#### Строим precision-recall кривую"
   ]
  },
  {
   "cell_type": "code",
   "execution_count": 82,
   "id": "96adb5b0-0e53-44de-9b1b-47195fb189d8",
   "metadata": {},
   "outputs": [
    {
     "data": {
      "image/png": "[encoded data removed]",
      "text/plain": [
       "<Figure size 800x600 with 1 Axes>"
      ]
     },
     "metadata": {},
     "output_type": "display_data"
    },
    {
     "name": "stdout",
     "output_type": "stream",
     "text": [
      "Average Precision Score: 0.9802\n"
     ]
    }
   ],
   "source": [
    "precision, recall, thresholds = precision_recall_curve(df['label'], df['prediction'])\n",
    "\n",
    "average_precision = average_precision_score(df['label'], df['prediction'])\n",
    "\n",
    "plt.figure(figsize=(8, 6))\n",
    "plt.plot(recall, precision, color='blue', label=f'PR Curve (AP = {average_precision:.4f})')\n",
    "plt.xlabel('Recall')\n",
    "plt.ylabel('Precision')\n",
    "plt.title('Precision-Recall (PR) Curve')\n",
    "plt.legend(loc='upper right')\n",
    "plt.grid()\n",
    "plt.show()\n",
    "\n",
    "print(f'Average Precision Score: {average_precision:.4f}')"
   ]
  },
  {
   "cell_type": "markdown",
   "id": "2fa5b1a3-ff08-462f-8f50-0a22fc76dcf0",
   "metadata": {},
   "source": [
    "#### f1 мера"
   ]
  },
  {
   "cell_type": "code",
   "execution_count": 75,
   "id": "e64dabae-c8e2-4d3c-90a3-6870a8612611",
   "metadata": {},
   "outputs": [
    {
     "name": "stdout",
     "output_type": "stream",
     "text": [
      "F1 мера: 0.930494974397876\n"
     ]
    }
   ],
   "source": [
    "labels = np.array(df[\"label\"].tolist())\n",
    "preds = np.array(df[\"prediction\"].tolist())\n",
    "new_f1 = f1_score(labels, preds)\n",
    "print(f'F1 мера: {new_f1}')"
   ]
  },
  {
   "cell_type": "markdown",
   "id": "a24d3730-c348-4719-a30f-079c26a533ad",
   "metadata": {},
   "source": [
    "Полученные метрики подтверждают высокую точность результатов работы модели, поэтому будем интегрировать эту модель в веб-приложение на django."
   ]
  },
  {
   "cell_type": "code",
   "execution_count": null,
   "id": "1fef9059-f408-4ad5-9b4a-ea55ccc266c4",
   "metadata": {},
   "outputs": [],
   "source": []
  }
 ],
 "metadata": {
  "kernelspec": {
   "display_name": "Python 3 (ipykernel)",
   "language": "python",
   "name": "python3"
  },
  "language_info": {
   "codemirror_mode": {
    "name": "ipython",
    "version": 3
   },
   "file_extension": ".py",
   "mimetype": "text/x-python",
   "name": "python",
   "nbconvert_exporter": "python",
   "pygments_lexer": "ipython3",
   "version": "3.11.3"
  }
 },
 "nbformat": 4,
 "nbformat_minor": 5
}
